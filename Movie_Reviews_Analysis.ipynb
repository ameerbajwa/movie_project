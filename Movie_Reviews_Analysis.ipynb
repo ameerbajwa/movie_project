{
 "cells": [
  {
   "cell_type": "code",
   "execution_count": null,
   "metadata": {
    "collapsed": true
   },
   "outputs": [],
   "source": [
    "from bs4 import BeautifulSoup, Comment\n",
    "from fake_useragent import UserAgent\n",
    "from random import randint\n",
    "import requests, re\n",
    "from time import sleep\n",
    "from collections import Counter\n",
    "import matplotlib.pyplot as plt\n",
    "\n",
    "%matplotlib inline\n",
    "\n",
    "import pandas as pd\n",
    "import numpy as np\n",
    "\n",
    "from sklearn.metrics import accuracy_score, recall_score, precision_score, roc_auc_score, roc_curve, auc, f1_score, precision_recall_curve, log_loss, confusion_matrix\n",
    "from sklearn.ensemble import RandomForestClassifier, GradientBoostingClassifier\n",
    "\n",
    "from sklearn.feature_extraction.text import CountVectorizer\n",
    "from sklearn.feature_extraction.text import TfidfVectorizer\n",
    "from sklearn.decomposition import TruncatedSVD, NMF\n",
    "from sklearn.preprocessing import Normalizer\n",
    "\n",
    "from nltk.tokenize import word_tokenize, wordpunct_tokenize, WhitespaceTokenizer, RegexpTokenizer\n",
    "from nltk.util import ngrams"
   ]
  },
  {
   "cell_type": "code",
   "execution_count": null,
   "metadata": {
    "collapsed": true
   },
   "outputs": [],
   "source": [
    "columns = ['productId', 'userid', 'profilename', 'helpfulness', 'score', 'time', 'summary', 'review']\n",
    "\n",
    "shortened_movie_reviews = pd.read_csv('movie_reviews/reallyshortreviews.csv', delimiter='\\t', names=columns)\n",
    "shortened_movie_reviews"
   ]
  },
  {
   "cell_type": "code",
   "execution_count": null,
   "metadata": {
    "collapsed": true
   },
   "outputs": [],
   "source": [
    "productids = list(shortened_movie_reviews['productId'].unique())\n",
    "print (len(productids))\n",
    "\n",
    "reviewers = list(shortened_movie_reviews['userid'].unique())\n",
    "print (len(reviewers))"
   ]
  },
  {
   "cell_type": "code",
   "execution_count": null,
   "metadata": {
    "collapsed": true
   },
   "outputs": [],
   "source": []
  },
  {
   "cell_type": "code",
   "execution_count": null,
   "metadata": {
    "collapsed": true
   },
   "outputs": [],
   "source": []
  },
  {
   "cell_type": "code",
   "execution_count": null,
   "metadata": {
    "collapsed": true
   },
   "outputs": [],
   "source": []
  },
  {
   "cell_type": "code",
   "execution_count": null,
   "metadata": {
    "collapsed": true
   },
   "outputs": [],
   "source": [
    "shortened_movie_reviews['movie_url'] = ''"
   ]
  },
  {
   "cell_type": "code",
   "execution_count": null,
   "metadata": {
    "collapsed": true
   },
   "outputs": [],
   "source": [
    "for i in range(0,len(shortened_movie_reviews)):\n",
    "    if type(shortened_movie_reviews.iloc[i,0]) == str:\n",
    "        shortened_movie_reviews.iloc[i,8] = 'https://www.amazon.com/dp/'+shortened_movie_reviews.iloc[i,0]+'/'\n",
    "    else:\n",
    "        shortened_movie_reviews.iloc[i,8] = 'None'"
   ]
  },
  {
   "cell_type": "code",
   "execution_count": null,
   "metadata": {
    "collapsed": true
   },
   "outputs": [],
   "source": [
    "shortened_movie_reviews.score = shortened_movie_reviews.score.fillna(5.0)"
   ]
  },
  {
   "cell_type": "code",
   "execution_count": null,
   "metadata": {
    "collapsed": true
   },
   "outputs": [],
   "source": [
    "for i in range(0,len(shortened_movie_reviews)):\n",
    "    if type(shortened_movie_reviews.iloc[i,7]) != str:\n",
    "        print (i)\n",
    "        shortened_movie_reviews.iloc[i,7] = shortened_movie_reviews.iloc[i,6]\n",
    "        "
   ]
  },
  {
   "cell_type": "code",
   "execution_count": null,
   "metadata": {
    "collapsed": true
   },
   "outputs": [],
   "source": [
    "# Number of reviewers' scores for that particular movie\n",
    "\n",
    "count_ratings = Counter(shortened_movie_reviews['score'])\n",
    "baseline = pd.DataFrame.from_dict(count_ratings, orient='index')\n",
    "baseline_clean = baseline.T\n",
    "\n",
    "baseline.plot(kind='bar')\n",
    "baseline_clean"
   ]
  }
 ],
 "metadata": {
  "kernelspec": {
   "display_name": "Python 3",
   "language": "python",
   "name": "python3"
  },
  "language_info": {
   "codemirror_mode": {
    "name": "ipython",
    "version": 3
   },
   "file_extension": ".py",
   "mimetype": "text/x-python",
   "name": "python",
   "nbconvert_exporter": "python",
   "pygments_lexer": "ipython3",
   "version": "3.6.1"
  }
 },
 "nbformat": 4,
 "nbformat_minor": 2
}
